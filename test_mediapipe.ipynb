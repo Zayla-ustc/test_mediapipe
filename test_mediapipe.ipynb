{
 "cells": [
  {
   "cell_type": "code",
   "execution_count": null,
   "id": "00cb9bc6",
   "metadata": {},
   "outputs": [],
   "source": []
  },
  {
   "cell_type": "code",
   "execution_count": 1,
   "id": "df66fc4b",
   "metadata": {},
   "outputs": [],
   "source": [
    "# 导入opencv-python\n",
    "import cv2\n",
    "# 导入mediapipe\n",
    "import mediapipe as mp"
   ]
  },
  {
   "cell_type": "code",
   "execution_count": 2,
   "id": "b38d2370",
   "metadata": {},
   "outputs": [],
   "source": [
    "# 导入pose solution\n",
    "mp_pose = mp.solutions.pose\n",
    "\n",
    "# 导入模型\n",
    "pose = mp_pose.Pose(static_image_mode=False,        # 是静态图片还是连续视频帧\n",
    "                    model_complexity=2,             # 取0,1,2；0最快但性能差，2最慢但性能好\n",
    "                    smooth_landmarks=True,          # 是否平滑关键点\n",
    "                    min_detection_confidence=0.5,   # 置信度阈值\n",
    "                    min_tracking_confidence=0.5)    # 追踪阈值"
   ]
  },
  {
   "cell_type": "code",
   "execution_count": 3,
   "id": "f9f83711",
   "metadata": {},
   "outputs": [],
   "source": [
    "mp_drawing = mp.solutions.drawing_utils"
   ]
  },
  {
   "cell_type": "code",
   "execution_count": 4,
   "id": "e4fc4cf3",
   "metadata": {},
   "outputs": [],
   "source": [
    "def process_frame(img_BGR):\n",
    "    img_RGB = cv2.cvtColor(img_BGR, cv2.COLOR_BGR2RGB)\n",
    "    results = pose.process(img_RGB) # 将RGB图片输入模型，获取预测结果\n",
    "    mp_drawing.draw_landmarks(img_BGR, results.pose_landmarks, mp_pose.POSE_CONNECTIONS) # 可视化\n",
    "    return img_BGR"
   ]
  },
  {
   "cell_type": "code",
   "execution_count": 5,
   "id": "c8495c09",
   "metadata": {},
   "outputs": [
    {
     "data": {
      "text/plain": [
       "True"
      ]
     },
     "execution_count": 5,
     "metadata": {},
     "output_type": "execute_result"
    }
   ],
   "source": [
    "cap = cv2.VideoCapture(1) # Mac电脑的参数为1，Windows电脑的参数为0\n",
    "\n",
    "cap.open(0)"
   ]
  },
  {
   "cell_type": "code",
   "execution_count": 6,
   "id": "1425b34d",
   "metadata": {},
   "outputs": [],
   "source": [
    "while cap.isOpened():\n",
    "    success, frame = cap.read()\n",
    "\n",
    "    if not success:\n",
    "        print('Error')\n",
    "        break\n",
    "\n",
    "    frame = process_frame(frame)\n",
    "\n",
    "    cv2.imshow('camera', frame)\n",
    "\n",
    "    if cv2.waitKey(1) in [ord('q'),27]: # 按下键盘的 q 或 esc 退出（在英文输入法下）\n",
    "        break"
   ]
  },
  {
   "cell_type": "code",
   "execution_count": 7,
   "id": "d94a09c0",
   "metadata": {},
   "outputs": [],
   "source": [
    "cap.release()\n",
    "cv2.destroyAllWindows()"
   ]
  },
  {
   "cell_type": "code",
   "execution_count": 8,
   "id": "97309e25",
   "metadata": {},
   "outputs": [],
   "source": [
    "def process_frame(img_BGR):\n",
    "    start_time = time.time()\n",
    "    img_RGB = cv2.cvtColor(img_BGR, cv2.COLOR_BGR2RGB)\n",
    "    results = pose.process(img_RGB) # 将RGB图片输入模型，获取预测结果"
   ]
  },
  {
   "cell_type": "code",
   "execution_count": 9,
   "id": "501e0198",
   "metadata": {},
   "outputs": [
    {
     "ename": "NameError",
     "evalue": "name 'img_BGR' is not defined",
     "output_type": "error",
     "traceback": [
      "\u001b[1;31m---------------------------------------------------------------------------\u001b[0m",
      "\u001b[1;31mNameError\u001b[0m                                 Traceback (most recent call last)",
      "Cell \u001b[1;32mIn[9], line 1\u001b[0m\n\u001b[1;32m----> 1\u001b[0m h, w \u001b[38;5;241m=\u001b[39m \u001b[43mimg_BGR\u001b[49m\u001b[38;5;241m.\u001b[39mshape[\u001b[38;5;241m0\u001b[39m], img_BGR\u001b[38;5;241m.\u001b[39mshape[\u001b[38;5;241m1\u001b[39m]\n",
      "\u001b[1;31mNameError\u001b[0m: name 'img_BGR' is not defined"
     ]
    }
   ],
   "source": [
    "h, w = img_BGR.shape[0], img_BGR.shape[1]"
   ]
  },
  {
   "cell_type": "code",
   "execution_count": null,
   "id": "be0ffadb",
   "metadata": {},
   "outputs": [],
   "source": [
    "# 遍历33个关键点\n",
    "if results.pose_landmarks: # 获取关键点前，必须先判断是否有预测结果\n",
    "    mp_drawing.draw_landmarks(img_BGR, results.pose_landmarks, mp_pose.POSE_CONNECTIONS) # 先可视化，之后再给不同部位的关键点画不同颜色\n",
    "    for i in range(33):\n",
    "        cx = int(results.pose_landmarks.landmark[i].x * w) # 关键点的横坐标\n",
    "        cy = int(results.pose_landmarks.landmark[i].y * h) # 关键点的纵坐标\n",
    "        cz = results.pose_landmarks.landmark[i].z\n",
    "\n",
    "        radius = 5\n",
    "        if i == 0:  # 鼻尖\n",
    "            img_BGR = cv2.circle(img_BGR, (cx, cy), radius, (0, 0, 225), -1)    # -1表示填充\n",
    "        elif i in [11, 12]:  # 肩膀\n",
    "            img_BGR = cv2.circle(img_BGR, (cx, cy), radius, (223, 155, 6), -1)\n",
    "        elif i in [23, 24]:  # 髋关节\n",
    "            img_BGR = cv2.circle(img_BGR, (cx, cy), radius, (1, 240, 255), -1)\n",
    "        elif i in [13, 14]:  # 胳膊肘\n",
    "            img_BGR = cv2.circle(img_BGR, (cx, cy), radius, (140, 47, 240), -1)\n",
    "        elif i in [25, 26]:  # 膝盖\n",
    "            img_BGR = cv2.circle(img_BGR, (cx, cy), radius, (0, 0, 225), -1)\n",
    "        elif i in [15, 16, 27, 28]:  # 手腕和脚腕\n",
    "            img_BGR = cv2.circle(img_BGR, (cx, cy), radius, (223, 155, 60), -1)\n",
    "        elif i in [17, 19, 21]:  # 左手\n",
    "            img_BGR = cv2.circle(img_BGR, (cx, cy), radius, (94, 218, 121), -1)\n",
    "        elif i in [18, 20, 22]:  # 右手\n",
    "            img_BGR = cv2.circle(img_BGR, (cx, cy), radius, (16, 144, 247), -1)\n",
    "        elif i in [27, 29, 31]:  # 左脚\n",
    "            img_BGR = cv2.circle(img_BGR, (cx, cy), radius, (29, 123, 243), -1)\n",
    "        elif i in [28, 30, 32]:  # 右脚\n",
    "            img_BGR = cv2.circle(img_BGR, (cx, cy), radius, (193, 182, 255), -1)\n",
    "        elif i in [9, 10]:  # 嘴\n",
    "            img_BGR = cv2.circle(img_BGR, (cx, cy), radius, (205, 235, 255), -1)\n",
    "        elif i in [1, 2, 3, 4, 5, 6, 7, 8]:  # 眼和脸颊\n",
    "            img_BGR = cv2.circle(img_BGR, (cx, cy), radius, (94, 218, 121), -1)\n",
    "        else:   # 其它关键点\n",
    "            img_BGR = cv2.circle(img_BGR, (cx, cy), radius, (0, 225, 0), -1)\n",
    "else:\n",
    "    scaler = 1\n",
    "    failure_str = 'No Person'\n",
    "    img_BGR = cv2.putText(img_BGR, failure_str, (25 * scaler, 100 * scaler), cv2.FONT_HERSHEY_SIMPLEX, 1.25 * scaler, (255, 0, 0))\n",
    "end_time = time.time()\n",
    "FPS = 1 / (end_time - start_time)\n",
    "scaler = 1\n",
    "# 在图像上写FPS数值，参数依次为：图片，添加的文字，左上角坐标，字体，文字大小，颜色，文字粗细\n",
    "img_BGR = cv2.putText(img_BGR, 'FPS ' + str(int(FPS)), (25 * scaler, 50 * scaler), cv2.FONT_HERSHEY_SIMPLEX, 1.25 * scaler, (255, 0, 0))\n",
    "# 如果需要后续使用img_BGR，可以直接使用变量img_BGR"
   ]
  },
  {
   "cell_type": "code",
   "execution_count": null,
   "id": "fbb5f423",
   "metadata": {},
   "outputs": [],
   "source": []
  }
 ],
 "metadata": {
  "kernelspec": {
   "display_name": "test_mediapipe",
   "language": "python",
   "name": "python3"
  },
  "language_info": {
   "codemirror_mode": {
    "name": "ipython",
    "version": 3
   },
   "file_extension": ".py",
   "mimetype": "text/x-python",
   "name": "python",
   "nbconvert_exporter": "python",
   "pygments_lexer": "ipython3",
   "version": "3.8.20"
  }
 },
 "nbformat": 4,
 "nbformat_minor": 5
}
